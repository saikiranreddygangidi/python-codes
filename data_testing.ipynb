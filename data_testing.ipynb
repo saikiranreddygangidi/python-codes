{
 "cells": [
  {
   "cell_type": "markdown",
   "metadata": {},
   "source": [
    "# hello every one\n"
   ]
  },
  {
   "cell_type": "code",
   "execution_count": 4,
   "metadata": {},
   "outputs": [],
   "source": [
    "import numpy"
   ]
  },
  {
   "cell_type": "code",
   "execution_count": 5,
   "metadata": {},
   "outputs": [
    {
     "ename": "SyntaxError",
     "evalue": "invalid syntax (fuzzy.py, line 94)",
     "output_type": "error",
     "traceback": [
      "Traceback \u001b[1;36m(most recent call last)\u001b[0m:\n",
      "  File \u001b[0;32m\"c:\\users\\anirudh\\appdata\\local\\programs\\python\\python36-32\\lib\\site-packages\\IPython\\core\\interactiveshell.py\"\u001b[0m, line \u001b[0;32m3267\u001b[0m, in \u001b[0;35mrun_code\u001b[0m\n    exec(code_obj, self.user_global_ns, self.user_ns)\n",
      "\u001b[1;36m  File \u001b[1;32m\"<ipython-input-5-7df351f03b1b>\"\u001b[1;36m, line \u001b[1;32m1\u001b[1;36m, in \u001b[1;35m<module>\u001b[1;36m\u001b[0m\n\u001b[1;33m    import fuzzy\u001b[0m\n",
      "\u001b[1;36m  File \u001b[1;32m\"C:\\Users\\Anirudh\\Desktop\\saikiran\\python\\fuzzy.py\"\u001b[1;36m, line \u001b[1;32m94\u001b[0m\n\u001b[1;33m    %matplotlib inline\u001b[0m\n\u001b[1;37m    ^\u001b[0m\n\u001b[1;31mSyntaxError\u001b[0m\u001b[1;31m:\u001b[0m invalid syntax\n"
     ]
    }
   ],
   "source": [
    "import fuzzy"
   ]
  },
  {
   "cell_type": "code",
   "execution_count": 6,
   "metadata": {},
   "outputs": [
    {
     "name": "stdout",
     "output_type": "stream",
     "text": [
      " Volume in drive C is Windows\n",
      " Volume Serial Number is CAEB-7BD1\n",
      "\n",
      " Directory of C:\\Users\\Anirudh\\Desktop\\saikiran\\python\n",
      "\n",
      "04/16/2020  12:29 PM    <DIR>          .\n",
      "04/16/2020  12:29 PM    <DIR>          ..\n",
      "04/16/2020  12:10 PM    <DIR>          .ipynb_checkpoints\n",
      "02/15/2019  08:09 PM               517 5probleminex.py\n",
      "02/11/2019  08:59 PM               185 adhi.py\n",
      "05/25/2019  08:43 PM               279 anudeep.py\n",
      "02/04/2019  09:12 PM               266 arrays.py\n",
      "02/04/2019  10:31 PM               387 arrays1.py\n",
      "01/03/2019  08:23 PM               492 assigmnent.py\n",
      "04/09/2020  06:46 PM    <DIR>          chatbot-project\n",
      "09/17/2018  09:16 PM               594 circle.py\n",
      "03/10/2019  06:59 PM    <DIR>          codechef\n",
      "08/12/2019  05:51 PM    <DIR>          codecita\n",
      "06/20/2019  07:16 PM             1,040 codenija.py\n",
      "04/16/2020  12:29 PM               660 data_testing.ipynb\n",
      "02/11/2019  11:24 PM               210 dd.py\n",
      "10/06/2018  08:30 PM               410 dice.py\n",
      "09/01/2018  06:46 PM    <DIR>          drive-download-20180901T131337Z-001\n",
      "01/22/2019  08:22 PM               192 exe.py\n",
      "02/14/2019  10:14 PM    <DIR>          face reg\n",
      "01/24/2019  10:00 PM               356 filescreeshot.py\n",
      "03/04/2019  06:53 PM             1,238 final.py\n",
      "10/01/2018  03:47 PM                56 first.py\n",
      "04/16/2020  12:03 PM             3,210 fuzzy.py\n",
      "09/17/2018  06:42 PM         1,642,522 get-pip.py\n",
      "06/29/2019  07:31 PM               431 group.py\n",
      "03/06/2019  06:05 PM    <DIR>          hackerrank\n",
      "09/24/2018  05:40 PM             1,990 hh.py\n",
      "02/28/2019  08:51 PM               156 imagetotext.py\n",
      "12/12/2018  07:38 PM               166 jump.py\n",
      "03/04/2019  07:09 PM               235 loaction_finding.py\n",
      "10/09/2018  05:40 PM               454 machine first.py\n",
      "03/04/2019  06:49 PM    <DIR>          machine learing\n",
      "10/09/2018  06:39 PM               832 machine second.py\n",
      "10/09/2018  07:34 PM               306 mail.py\n",
      "09/23/2019  09:54 PM                 0 mltut.py\n",
      "06/18/2019  11:05 AM               132 n.py\n",
      "09/22/2018  06:49 PM               700 name.py\n",
      "02/19/2019  07:36 PM    <DIR>          new python of jquery\n",
      "06/26/2019  10:42 PM               611 pointinside.py\n",
      "08/30/2019  09:56 AM               433 prime and pow o(1).py\n",
      "01/22/2019  08:12 PM             2,115 project.py\n",
      "09/22/2018  07:12 PM           112,790 PyAudio-0.2.11-cp36-cp36m-win_amd64.whl\n",
      "02/28/2019  07:33 PM    <DIR>          pypiwin32-223.dist-info\n",
      "07/24/2019  07:16 PM           333,228 python for ds.pdf\n",
      "09/27/2018  07:18 PM    <DIR>          python-speech-recognition-master\n",
      "06/19/2019  07:40 PM               479 questionbyvineel.py\n",
      "12/11/2018  07:35 PM               228 regular_expression.py\n",
      "12/10/2018  09:54 PM               271 remaining.py\n",
      "09/25/2018  07:12 PM               515 sir.py\n",
      "02/18/2019  06:37 PM               311 six.py\n",
      "03/06/2019  10:20 PM            11,106 smoking_det.py\n",
      "03/02/2019  09:33 PM             4,515 sp.png\n",
      "01/21/2019  08:48 PM    <DIR>          Speech-Recognition-master\n",
      "09/24/2018  11:18 AM               591 str.py\n",
      "10/02/2018  04:11 PM               658 sum.py\n",
      "10/06/2018  09:56 PM               442 swap.py\n",
      "03/06/2019  07:49 PM             5,166 tensorflow1.py\n",
      "09/24/2018  01:27 PM                58 test.py\n",
      "09/24/2018  08:55 PM               347 test3.py\n",
      "02/28/2019  09:07 PM               237 texttospeech.py\n",
      "09/19/2019  10:29 PM               696 tonightcode.py\n",
      "09/19/2019  09:20 PM               641 tonightcode2.py\n",
      "07/14/2019  10:13 AM           113,930 WhatsApp Image 2019-07-14 at 10.11.53 AM.jpeg\n",
      "07/14/2019  10:38 AM           106,506 WhatsApp Image 2019-07-14 at 10.13.07 AM.jpeg\n",
      "07/14/2019  10:38 AM            49,300 WhatsApp Image 2019-07-14 at 10.13.19 AM.jpeg\n",
      "07/14/2019  10:19 AM            91,684 WhatsApp Image 2019-07-14 at 10.13.51 AM.jpeg\n",
      "07/14/2019  10:44 AM           108,134 WhatsApp Image 2019-07-14 at 10.14.25 AM.jpeg\n",
      "07/14/2019  10:44 AM            47,228 WhatsApp Image 2019-07-14 at 10.14.47 AM.jpeg\n",
      "01/18/2019  07:18 PM               150 wihar1.py\n",
      "01/18/2019  07:55 PM               178 wihar2.py\n",
      "03/06/2019  07:49 PM    <DIR>          __pycache__\n",
      "              57 File(s)      2,650,564 bytes\n",
      "              15 Dir(s)  331,122,339,840 bytes free\n"
     ]
    }
   ],
   "source": [
    "! dir\n"
   ]
  },
  {
   "cell_type": "code",
   "execution_count": null,
   "metadata": {},
   "outputs": [],
   "source": [
    "! pip install fuzzy"
   ]
  },
  {
   "cell_type": "code",
   "execution_count": null,
   "metadata": {},
   "outputs": [],
   "source": []
  }
 ],
 "metadata": {
  "kernelspec": {
   "display_name": "Python 3",
   "language": "python",
   "name": "python3"
  },
  "language_info": {
   "codemirror_mode": {
    "name": "ipython",
    "version": 3
   },
   "file_extension": ".py",
   "mimetype": "text/x-python",
   "name": "python",
   "nbconvert_exporter": "python",
   "pygments_lexer": "ipython3",
   "version": "3.6.5rc1"
  }
 },
 "nbformat": 4,
 "nbformat_minor": 2
}
